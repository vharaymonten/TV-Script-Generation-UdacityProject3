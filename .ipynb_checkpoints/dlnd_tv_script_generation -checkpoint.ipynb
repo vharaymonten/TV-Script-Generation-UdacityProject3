{
 "cells": [
  {
   "cell_type": "code",
   "execution_count": 1,
   "metadata": {},
   "outputs": [],
   "source": [
    "import helper\n",
    "data_dir = './data/simpsons/moes_tavern_lines.txt'\n",
    "text = helper.load_data(data_dir)\n",
    "# Ignore notice, since we don't use it for analysing the data\n",
    "text = text[81:]"
   ]
  },
  {
   "cell_type": "code",
   "execution_count": 2,
   "metadata": {},
   "outputs": [
    {
     "name": "stdout",
     "output_type": "stream",
     "text": [
      "Dataset Stats\n",
      "Roughly the number of unique words: 11492\n",
      "Number of scenes: 262\n",
      "Average number of sentences in each scene: 15.248091603053435\n",
      "Number of lines: 4257\n",
      "Average number of words in each line: 11.50434578341555\n",
      "\n",
      "The sentences 0 to 10:\n",
      "Moe_Szyslak: (INTO PHONE) Moe's Tavern. Where the elite meet to drink.\n",
      "Bart_Simpson: Eh, yeah, hello, is Mike there? Last name, Rotch.\n",
      "Moe_Szyslak: (INTO PHONE) Hold on, I'll check. (TO BARFLIES) Mike Rotch. Mike Rotch. Hey, has anybody seen Mike Rotch, lately?\n",
      "Moe_Szyslak: (INTO PHONE) Listen you little puke. One of these days I'm gonna catch you, and I'm gonna carve my name on your back with an ice pick.\n",
      "Moe_Szyslak: What's the matter Homer? You're not your normal effervescent self.\n",
      "Homer_Simpson: I got my problems, Moe. Give me another one.\n",
      "Moe_Szyslak: Homer, hey, you should not drink to forget your problems.\n",
      "Barney_Gumble: Yeah, you should only drink to enhance your social skills.\n",
      "\n",
      "\n"
     ]
    }
   ],
   "source": [
    "view_sentence_range = (0, 10)\n",
    "\n",
    "import numpy as np\n",
    "\n",
    "print('Dataset Stats')\n",
    "print('Roughly the number of unique words: {}'.format(len({word: None for word in text.split()})))\n",
    "scenes = text.split('\\n\\n')\n",
    "print('Number of scenes: {}'.format(len(scenes)))\n",
    "sentence_count_scene = [scene.count('\\n') for scene in scenes]\n",
    "print('Average number of sentences in each scene: {}'.format(np.average(sentence_count_scene)))\n",
    "\n",
    "sentences = [sentence for scene in scenes for sentence in scene.split('\\n')]\n",
    "print('Number of lines: {}'.format(len(sentences)))\n",
    "word_count_sentence = [len(sentence.split()) for sentence in sentences]\n",
    "print('Average number of words in each line: {}'.format(np.average(word_count_sentence)))\n",
    "\n",
    "print()\n",
    "print('The sentences {} to {}:'.format(*view_sentence_range))\n",
    "print('\\n'.join(text.split('\\n')[view_sentence_range[0]:view_sentence_range[1]]))"
   ]
  },
  {
   "cell_type": "code",
   "execution_count": 3,
   "metadata": {},
   "outputs": [
    {
     "name": "stdout",
     "output_type": "stream",
     "text": [
      "Tests Passed\n"
     ]
    }
   ],
   "source": [
    "import numpy as np\n",
    "import problem_unittests as tests\n",
    "\n",
    "def create_lookup_tables(text):\n",
    "    \"\"\"\n",
    "    Create lookup tables for vocabulary\n",
    "    :param text: The text of tv scripts split into words\n",
    "    :return: A tuple of dicts (vocab_to_int, int_to_vocab)\n",
    "    \"\"\"\n",
    "    vocab_to_int = {}\n",
    "    int_to_vocab = {}\n",
    "    for idx, word in enumerate(set(text)):\n",
    "        vocab_to_int[word] = idx \n",
    "        int_to_vocab[idx] = word \n",
    "    # TODO: Implement Function\n",
    "    return vocab_to_int, int_to_vocab\n",
    "\n",
    "\n",
    "tests.test_create_lookup_tables(create_lookup_tables)"
   ]
  },
  {
   "cell_type": "markdown",
   "metadata": {},
   "source": [
    "### Tokenize Punctuation\n",
    "We'll be splitting the script into a word array using spaces as delimiters.  However, punctuations like periods and exclamation marks make it hard for the neural network to distinguish between the word \"bye\" and \"bye!\".\n",
    "\n",
    "Implement the function `token_lookup` to return a dict that will be used to tokenize symbols like \"!\" into \"||Exclamation_Mark||\".  Create a dictionary for the following symbols where the symbol is the key and value is the token:\n",
    "- Period ( . )\n",
    "- Comma ( , )\n",
    "- Quotation Mark ( \" )\n",
    "- Semicolon ( ; )\n",
    "- Exclamation mark ( ! )\n",
    "- Question mark ( ? )\n",
    "- Left Parentheses ( ( )\n",
    "- Right Parentheses ( ) )\n",
    "- Dash ( -- )\n",
    "- Return ( \\n )\n",
    "\n",
    "This dictionary will be used to token the symbols and add the delimiter (space) around it.  This separates the symbols as it's own word, making it easier for the neural network to predict on the next word. Make sure you don't use a token that could be confused as a word. Instead of using the token \"dash\", try using something like \"||dash||\"."
   ]
  },
  {
   "cell_type": "code",
   "execution_count": 4,
   "metadata": {},
   "outputs": [
    {
     "name": "stdout",
     "output_type": "stream",
     "text": [
      "Tests Passed\n"
     ]
    }
   ],
   "source": [
    "def token_lookup():\n",
    "    \"\"\"\n",
    "    Generate a dict to turn punctuation into a token.\n",
    "    :return: Tokenize dictionary where the key is the punctuation and the value is the token\n",
    "    \"\"\"\n",
    "    punctuation = {'.':'||Period||',\n",
    "                  ',':'||Comma||',\n",
    "                  '\"':'||QuotationMark||',\n",
    "                  '!':'||ExclamationMark||',\n",
    "                  ';':'||Semicolon||',\n",
    "                  '?':'||QuestionMark||',\n",
    "                  '(':'||LeftParentheses||',\n",
    "                  ')':'||RightParentheses||',\n",
    "                  '--':'||Dash||',\n",
    "                  '\\n':'||Return||'}    # TODO: Implement Function\n",
    "    return punctuation\n",
    "\n",
    "\n",
    "tests.test_tokenize(token_lookup)"
   ]
  },
  {
   "cell_type": "markdown",
   "metadata": {},
   "source": [
    "## Preprocess all the data and save it\n",
    "Running the code cell below will preprocess all the data and save it to file."
   ]
  },
  {
   "cell_type": "code",
   "execution_count": 5,
   "metadata": {},
   "outputs": [],
   "source": [
    "# Preprocess Training, Validation, and Testing Data\n",
    "helper.preprocess_and_save_data(data_dir, token_lookup, create_lookup_tables)"
   ]
  },
  {
   "cell_type": "markdown",
   "metadata": {},
   "source": [
    "# Check Point\n",
    "This is your first checkpoint. If you ever decide to come back to this notebook or have to restart the notebook, you can start from here. The preprocessed data has been saved to disk."
   ]
  },
  {
   "cell_type": "code",
   "execution_count": 6,
   "metadata": {},
   "outputs": [],
   "source": [
    "import helper\n",
    "import numpy as np\n",
    "import problem_unittests as tests\n",
    "\n",
    "int_text, vocab_to_int, int_to_vocab, token_dict = helper.load_preprocess()"
   ]
  },
  {
   "cell_type": "code",
   "execution_count": 7,
   "metadata": {},
   "outputs": [
    {
     "name": "stdout",
     "output_type": "stream",
     "text": [
      "TensorFlow Version: 1.3.0\n",
      "Default GPU Device: /gpu:0\n"
     ]
    }
   ],
   "source": [
    "from distutils.version import LooseVersion\n",
    "import warnings\n",
    "import tensorflow as tf\n",
    "\n",
    "# Check TensorFlow Version\n",
    "assert LooseVersion(tf.__version__) >= LooseVersion('1.3'), 'Please use TensorFlow version 1.3 or newer'\n",
    "print('TensorFlow Version: {}'.format(tf.__version__))\n",
    "\n",
    "# Check for a GPU\n",
    "if not tf.test.gpu_device_name():\n",
    "    warnings.warn('No GPU found. Please use a GPU to train your neural network.')\n",
    "else:\n",
    "    print('Default GPU Device: {}'.format(tf.test.gpu_device_name()))"
   ]
  },
  {
   "cell_type": "code",
   "execution_count": 8,
   "metadata": {},
   "outputs": [
    {
     "name": "stdout",
     "output_type": "stream",
     "text": [
      "Tests Passed\n"
     ]
    }
   ],
   "source": [
    "def get_inputs():\n",
    "    \"\"\"\n",
    "    Create TF Placeholders for input, targets, and learning rate.\n",
    "    :return: Tuple (input, targets, learning rate)\n",
    "    \"\"\"\n",
    "    inputs = tf.placeholder(tf.int32, shape=[None, None], name='input')\n",
    "    labels = tf.placeholder(tf.int32, shape=[None,None])\n",
    "    learning_rate = tf.placeholder(tf.float32, name='learning_rate')\n",
    "    # TODO: Implement Function\n",
    "    return inputs, labels, learning_rate\n",
    "\n",
    "tests.test_get_inputs(get_inputs)"
   ]
  },
  {
   "cell_type": "markdown",
   "metadata": {},
   "source": [
    "### Build RNN Cell and Initialize\n",
    "Stack one or more [`BasicLSTMCells`](https://www.tensorflow.org/api_docs/python/tf/contrib/rnn/BasicLSTMCell) in a [`MultiRNNCell`](https://www.tensorflow.org/api_docs/python/tf/contrib/rnn/MultiRNNCell).\n",
    "- The Rnn size should be set using `rnn_size`\n",
    "- Initalize Cell State using the MultiRNNCell's [`zero_state()`](https://www.tensorflow.org/api_docs/python/tf/contrib/rnn/MultiRNNCell#zero_state) function\n",
    "    - Apply the name \"initial_state\" to the initial state using [`tf.identity()`](https://www.tensorflow.org/api_docs/python/tf/identity)\n",
    "\n",
    "Return the cell and initial state in the following tuple `(Cell, InitialState)`"
   ]
  },
  {
   "cell_type": "code",
   "execution_count": 9,
   "metadata": {},
   "outputs": [
    {
     "name": "stdout",
     "output_type": "stream",
     "text": [
      "Tests Passed\n"
     ]
    }
   ],
   "source": [
    "def get_init_cell(batch_size, rnn_size):\n",
    "    \"\"\"\n",
    "    Create an RNN Cell and initialize it.\n",
    "    :param batch_size: Size of batches\n",
    "    :param rnn_size: Size of RNNs\n",
    "    :return: Tuple (cell, initialize state)\n",
    "    \"\"\"\n",
    "    # TODO: Implement Function\n",
    "    def generate_lstm(num_layer, dropout=0.2):\n",
    "        lstm = tf.contrib.rnn.BasicLSTMCell(num_layer)\n",
    "        lstm = tf.contrib.rnn.DropoutWrapper(lstm, output_keep_prob=dropout)\n",
    "        return lstm\n",
    "    cells = tf.contrib.rnn.MultiRNNCell([generate_lstm(rnn_size) for i in range(2)])\n",
    "    initial_state = cells.zero_state(batch_size, tf.float32)\n",
    "    initial_state = tf.identity(initial_state, name='initial_state')\n",
    "    return cells, initial_state\n",
    "\n",
    "\n",
    "tests.test_get_init_cell(get_init_cell)"
   ]
  },
  {
   "cell_type": "markdown",
   "metadata": {},
   "source": [
    "### Word Embedding\n",
    "Apply embedding to `input_data` using TensorFlow.  Return the embedded sequence."
   ]
  },
  {
   "cell_type": "code",
   "execution_count": 10,
   "metadata": {},
   "outputs": [
    {
     "name": "stdout",
     "output_type": "stream",
     "text": [
      "Tests Passed\n"
     ]
    }
   ],
   "source": [
    "def get_embed(input_data, vocab_size, embed_dim):\n",
    "    \"\"\"\n",
    "    Create embedding for <input_data>.\n",
    "    :param input_data: TF placeholder for text input.\n",
    "    :param vocab_size: Number of words in vocabulary.\n",
    "    :param embed_dim: Number of embedding dimensions\n",
    "    :return: Embedded input.\n",
    "    \"\"\"\n",
    "    embedding = tf.Variable(tf.truncated_normal([vocab_size, embed_dim],stddev=0.1))\n",
    "    embed = tf.nn.embedding_lookup(embedding, input_data)\n",
    "    # TODO: Implement Function\n",
    "    return embed\n",
    "\n",
    "\n",
    "\n",
    "tests.test_get_embed(get_embed)"
   ]
  },
  {
   "cell_type": "code",
   "execution_count": 11,
   "metadata": {},
   "outputs": [
    {
     "name": "stdout",
     "output_type": "stream",
     "text": [
      "Tests Passed\n"
     ]
    }
   ],
   "source": [
    "def build_rnn(cell, inputs):\n",
    "    \"\"\"\n",
    "    Create a RNN using a RNN Cell\n",
    "    :param cell: RNN Cell\n",
    "    :param inputs: Input text data\n",
    "    :return: Tuple (Outputs, Final State)\n",
    "    \"\"\"\n",
    "    # TODO: Implement Function\n",
    "    outputs, final_state = tf.nn.dynamic_rnn(cell, inputs, dtype=tf.float32)\n",
    "    final_state = tf.identity(final_state, name='final_state')\n",
    "    return outputs, final_state\n",
    "\n",
    "tests.test_build_rnn(build_rnn)"
   ]
  },
  {
   "cell_type": "code",
   "execution_count": 12,
   "metadata": {},
   "outputs": [
    {
     "name": "stdout",
     "output_type": "stream",
     "text": [
      "Tests Passed\n"
     ]
    }
   ],
   "source": [
    "def build_nn(cell, rnn_size, input_data, vocab_size, embed_dim):\n",
    "    \"\"\"\n",
    "    Build part of the neural network\n",
    "    :param cell: RNN cell\n",
    "    :param rnn_size: Size of rnns\n",
    "    :param input_data: Input data\n",
    "    :param vocab_size: Vocabulary size\n",
    "    :param embed_dim: Number of embedding dimensions\n",
    "    :return: Tuple (Logits, FinalState)\n",
    "    \"\"\"\n",
    "    # TODO: Implement Function\n",
    "    embed_ = get_embed(input_data, vocab_size, embed_dim)\n",
    "    outputs, final_state = build_rnn(cell, embed_)\n",
    "    logits = tf.contrib.layers.fully_connected(outputs,vocab_size, activation_fn=None)\n",
    "    return logits, final_state\n",
    "\n",
    "\n",
    "tests.test_build_nn(build_nn)"
   ]
  },
  {
   "cell_type": "code",
   "execution_count": 13,
   "metadata": {},
   "outputs": [
    {
     "name": "stdout",
     "output_type": "stream",
     "text": [
      "Tests Passed\n"
     ]
    }
   ],
   "source": [
    "def get_batches(int_text, batch_size, seq_length):\n",
    "    \"\"\"\n",
    "    Return batches of input and target\n",
    "    :param int_text: Text with the words replaced by their ids\n",
    "    :param batch_size: The size of batch\n",
    "    :param seq_length: The length of sequence\n",
    "    :return: Batches as a Numpy array\n",
    "    \"\"\"\n",
    "    # TODO: Implement Function\n",
    "    word_per_batch = batch_size*seq_length\n",
    "    n_batches = len(int_text) // word_per_batch\n",
    "    batches = np.zeros((n_batches, 2, batch_size, seq_length))\n",
    "    int_text = np.array(int_text)\n",
    "    \n",
    "    int_text = int_text[:n_batches*word_per_batch]\n",
    "    int_text_shifted = np.roll(int_text, -1)    \n",
    "    xdata = int_text.reshape(batch_size, -1)\n",
    "    ydata = int_text_shifted.reshape(batch_size, -1)\n",
    "    \n",
    "    x_batches = np.split(xdata, n_batches, 1)\n",
    "    y_batches = np.split(ydata, n_batches, 1)\n",
    "    return np.array(list(zip(x_batches,y_batches)))\n",
    "                          \n",
    "        \n",
    "\n",
    "tests.test_get_batches(get_batches)\n"
   ]
  },
  {
   "cell_type": "code",
   "execution_count": 14,
   "metadata": {},
   "outputs": [],
   "source": [
    "# Number of Epochs\n",
    "num_epochs = 100\n",
    "# Batch Size\n",
    "batch_size = 128\n",
    "# RNN Size\n",
    "rnn_size = 620\n",
    "# Embedding Dimension Size\n",
    "embed_dim = 500\n",
    "# Sequence Length\n",
    "seq_length = 20\n",
    "# Learning Rate\n",
    "learning_rate = 1e-2\n",
    "# Show stats for every n number of batches\n",
    "show_every_n_batches = 32\n",
    "\n",
    "\n",
    "save_dir = './save'\n"
   ]
  },
  {
   "cell_type": "markdown",
   "metadata": {},
   "source": [
    "### Build the Graph\n",
    "Build the graph using the neural network you implemented."
   ]
  },
  {
   "cell_type": "code",
   "execution_count": 15,
   "metadata": {},
   "outputs": [],
   "source": [
    "\"\"\"\n",
    "DON'T MODIFY ANYTHING IN THIS CELL\n",
    "\"\"\"\n",
    "from tensorflow.contrib import seq2seq\n",
    "\n",
    "train_graph = tf.Graph()\n",
    "with train_graph.as_default():\n",
    "    vocab_size = len(int_to_vocab)\n",
    "    input_text, targets, lr = get_inputs()\n",
    "    input_data_shape = tf.shape(input_text)\n",
    "    cell, initial_state = get_init_cell(input_data_shape[0], rnn_size)\n",
    "    logits, final_state = build_nn(cell, rnn_size, input_text, vocab_size, embed_dim)\n",
    "\n",
    "    # Probabilities for generating words\n",
    "    probs = tf.nn.softmax(logits, name='probs')\n",
    "\n",
    "    # Loss function\n",
    "    cost = seq2seq.sequence_loss(\n",
    "        logits,\n",
    "        targets,\n",
    "        tf.ones([input_data_shape[0], input_data_shape[1]]))\n",
    "\n",
    "    # Optimizer\n",
    "    optimizer = tf.train.AdamOptimizer(lr)\n",
    "\n",
    "    # Gradient Clipping\n",
    "    gradients = optimizer.compute_gradients(cost)\n",
    "    capped_gradients = [(tf.clip_by_value(grad, -1., 1.), var) for grad, var in gradients if grad is not None]\n",
    "    train_op = optimizer.apply_gradients(capped_gradients)"
   ]
  },
  {
   "cell_type": "markdown",
   "metadata": {},
   "source": [
    "## Train\n",
    "Train the neural network on the preprocessed data.  If you have a hard time getting a good loss, check the [forums](https://discussions.udacity.com/) to see if anyone is having the same problem."
   ]
  },
  {
   "cell_type": "code",
   "execution_count": 16,
   "metadata": {},
   "outputs": [
    {
     "name": "stdout",
     "output_type": "stream",
     "text": [
      "Epoch   0 Batch    0/26   train_loss = 8.822\n",
      "Epoch   1 Batch    6/26   train_loss = 5.682\n",
      "Epoch   2 Batch   12/26   train_loss = 5.315\n",
      "Epoch   3 Batch   18/26   train_loss = 4.830\n",
      "Epoch   4 Batch   24/26   train_loss = 4.636\n",
      "Epoch   6 Batch    4/26   train_loss = 4.477\n",
      "Epoch   7 Batch   10/26   train_loss = 4.299\n",
      "Epoch   8 Batch   16/26   train_loss = 4.219\n",
      "Epoch   9 Batch   22/26   train_loss = 3.945\n",
      "Epoch  11 Batch    2/26   train_loss = 3.993\n",
      "Epoch  12 Batch    8/26   train_loss = 3.985\n",
      "Epoch  13 Batch   14/26   train_loss = 3.758\n",
      "Epoch  14 Batch   20/26   train_loss = 3.492\n",
      "Epoch  16 Batch    0/26   train_loss = 3.501\n",
      "Epoch  17 Batch    6/26   train_loss = 3.534\n",
      "Epoch  18 Batch   12/26   train_loss = 3.556\n",
      "Epoch  19 Batch   18/26   train_loss = 3.325\n",
      "Epoch  20 Batch   24/26   train_loss = 3.033\n",
      "Epoch  22 Batch    4/26   train_loss = 3.074\n",
      "Epoch  23 Batch   10/26   train_loss = 2.900\n",
      "Epoch  24 Batch   16/26   train_loss = 2.649\n",
      "Epoch  25 Batch   22/26   train_loss = 2.542\n",
      "Epoch  27 Batch    2/26   train_loss = 2.550\n",
      "Epoch  28 Batch    8/26   train_loss = 2.329\n",
      "Epoch  29 Batch   14/26   train_loss = 2.169\n",
      "Epoch  30 Batch   20/26   train_loss = 1.991\n",
      "Epoch  32 Batch    0/26   train_loss = 2.057\n",
      "Epoch  33 Batch    6/26   train_loss = 1.944\n",
      "Epoch  34 Batch   12/26   train_loss = 1.835\n",
      "Epoch  35 Batch   18/26   train_loss = 1.718\n",
      "Epoch  36 Batch   24/26   train_loss = 1.500\n",
      "Epoch  38 Batch    4/26   train_loss = 1.588\n",
      "Epoch  39 Batch   10/26   train_loss = 1.532\n",
      "Epoch  40 Batch   16/26   train_loss = 1.468\n",
      "Epoch  41 Batch   22/26   train_loss = 1.394\n",
      "Epoch  43 Batch    2/26   train_loss = 1.352\n",
      "Epoch  44 Batch    8/26   train_loss = 1.224\n",
      "Epoch  45 Batch   14/26   train_loss = 1.180\n",
      "Epoch  46 Batch   20/26   train_loss = 1.062\n",
      "Epoch  48 Batch    0/26   train_loss = 1.071\n",
      "Epoch  49 Batch    6/26   train_loss = 0.976\n",
      "Epoch  50 Batch   12/26   train_loss = 0.868\n",
      "Epoch  51 Batch   18/26   train_loss = 0.885\n",
      "Epoch  52 Batch   24/26   train_loss = 0.738\n",
      "Epoch  54 Batch    4/26   train_loss = 0.775\n",
      "Epoch  55 Batch   10/26   train_loss = 0.748\n",
      "Epoch  56 Batch   16/26   train_loss = 0.678\n",
      "Epoch  57 Batch   22/26   train_loss = 0.648\n",
      "Epoch  59 Batch    2/26   train_loss = 0.664\n",
      "Epoch  60 Batch    8/26   train_loss = 0.592\n",
      "Epoch  61 Batch   14/26   train_loss = 0.542\n",
      "Epoch  62 Batch   20/26   train_loss = 0.531\n",
      "Epoch  64 Batch    0/26   train_loss = 0.576\n",
      "Epoch  65 Batch    6/26   train_loss = 0.496\n",
      "Epoch  66 Batch   12/26   train_loss = 0.460\n",
      "Epoch  67 Batch   18/26   train_loss = 0.487\n",
      "Epoch  68 Batch   24/26   train_loss = 0.411\n",
      "Epoch  70 Batch    4/26   train_loss = 0.436\n",
      "Epoch  71 Batch   10/26   train_loss = 0.415\n",
      "Epoch  72 Batch   16/26   train_loss = 0.390\n",
      "Epoch  73 Batch   22/26   train_loss = 0.353\n",
      "Epoch  75 Batch    2/26   train_loss = 0.325\n",
      "Epoch  76 Batch    8/26   train_loss = 0.304\n",
      "Epoch  77 Batch   14/26   train_loss = 0.267\n",
      "Epoch  78 Batch   20/26   train_loss = 0.245\n",
      "Epoch  80 Batch    0/26   train_loss = 0.235\n",
      "Epoch  81 Batch    6/26   train_loss = 0.205\n",
      "Epoch  82 Batch   12/26   train_loss = 0.184\n",
      "Epoch  83 Batch   18/26   train_loss = 0.183\n",
      "Epoch  84 Batch   24/26   train_loss = 0.158\n",
      "Epoch  86 Batch    4/26   train_loss = 0.166\n",
      "Epoch  87 Batch   10/26   train_loss = 0.189\n",
      "Epoch  88 Batch   16/26   train_loss = 0.180\n",
      "Epoch  89 Batch   22/26   train_loss = 0.172\n",
      "Epoch  91 Batch    2/26   train_loss = 0.166\n",
      "Epoch  92 Batch    8/26   train_loss = 0.160\n",
      "Epoch  93 Batch   14/26   train_loss = 0.162\n",
      "Epoch  94 Batch   20/26   train_loss = 0.160\n",
      "Epoch  96 Batch    0/26   train_loss = 0.156\n",
      "Epoch  97 Batch    6/26   train_loss = 0.156\n",
      "Epoch  98 Batch   12/26   train_loss = 0.148\n",
      "Epoch  99 Batch   18/26   train_loss = 0.153\n",
      "Model Trained and Saved\n"
     ]
    }
   ],
   "source": [
    "\n",
    "batches = get_batches(int_text, batch_size, seq_length)\n",
    "\n",
    "with tf.Session(graph=train_graph) as sess:\n",
    "    sess.run(tf.global_variables_initializer())\n",
    "\n",
    "    for epoch_i in range(num_epochs):\n",
    "        state = sess.run(initial_state, {input_text: batches[0][0]})\n",
    "\n",
    "        for batch_i, (x, y) in enumerate(batches):\n",
    "            feed = {\n",
    "                input_text: x,\n",
    "                targets: y,\n",
    "                initial_state: state,\n",
    "                lr: learning_rate}\n",
    "            train_loss, state, _ = sess.run([cost, final_state, train_op], feed)\n",
    "\n",
    "            # Show every <show_every_n_batches> batches\n",
    "            if (epoch_i * len(batches) + batch_i) % show_every_n_batches == 0:\n",
    "                print('Epoch {:>3} Batch {:>4}/{}   train_loss = {:.3f}'.format(\n",
    "                    epoch_i,\n",
    "                    batch_i,\n",
    "                    len(batches),\n",
    "                    train_loss))\n",
    "    p_ = sess.run([probs],feed) \n",
    "    \n",
    "\n",
    "    # Save Model\n",
    "    saver = tf.train.Saver()\n",
    "    saver.save(sess, save_dir)\n",
    "    print('Model Trained and Saved')"
   ]
  },
  {
   "cell_type": "markdown",
   "metadata": {},
   "source": [
    "## Save Parameters\n",
    "Save `seq_length` and `save_dir` for generating a new TV script."
   ]
  },
  {
   "cell_type": "code",
   "execution_count": 17,
   "metadata": {},
   "outputs": [],
   "source": [
    "# Save parameters for checkpoint\n",
    "helper.save_params((seq_length, save_dir))"
   ]
  },
  {
   "cell_type": "markdown",
   "metadata": {},
   "source": [
    "# Checkpoint"
   ]
  },
  {
   "cell_type": "code",
   "execution_count": 18,
   "metadata": {},
   "outputs": [],
   "source": [
    "import tensorflow as tf\n",
    "import numpy as np\n",
    "import helper\n",
    "import problem_unittests as tests\n",
    "\n",
    "_, vocab_to_int, int_to_vocab, token_dict = helper.load_preprocess()\n",
    "seq_length, load_dir = helper.load_params()"
   ]
  },
  {
   "cell_type": "code",
   "execution_count": 19,
   "metadata": {},
   "outputs": [
    {
     "name": "stdout",
     "output_type": "stream",
     "text": [
      "Tests Passed\n"
     ]
    }
   ],
   "source": [
    "def get_tensors(loaded_graph):\n",
    "    \"\"\"\n",
    "    Get input, initial state, final state, and probabilities tensor from <loaded_graph>\n",
    "    :param loaded_graph: TensorFlow graph loaded from file\n",
    "    :return: Tuple (InputTensor, InitialStateTensor, FinalStateTensor, ProbsTensor)\n",
    "    \"\"\"\n",
    "    # TODO: Implement Function\n",
    "    input_ = loaded_graph.get_tensor_by_name(\"input:0\")\n",
    "    initial_state = loaded_graph.get_tensor_by_name(\"initial_state:0\")\n",
    "    final_state = loaded_graph.get_tensor_by_name(\"final_state:0\")\n",
    "    probs = loaded_graph.get_tensor_by_name(\"probs:0\")\n",
    "    return input_, initial_state, final_state, probs\n",
    "\n",
    "\n",
    "tests.test_get_tensors(get_tensors)"
   ]
  },
  {
   "cell_type": "markdown",
   "metadata": {},
   "source": [
    "### Choose Word\n",
    "Implement the `pick_word()` function to select the next word using `probabilities`."
   ]
  },
  {
   "cell_type": "code",
   "execution_count": 20,
   "metadata": {},
   "outputs": [
    {
     "name": "stdout",
     "output_type": "stream",
     "text": [
      "Tests Passed\n"
     ]
    }
   ],
   "source": [
    "def pick_word(probabilities, int_to_vocab):\n",
    "    \"\"\"\n",
    "    Pick the next word in the generated text\n",
    "    :param probabilities: Probabilites of the next word\n",
    "    :param int_to_vocab: Dictionary of word ids as the keys and words as the values\n",
    "    :return: String of the predicted word\n",
    "    \"\"\"\n",
    "    idx_ = np.argmax(probabilities)\n",
    "    pred = int_to_vocab[idx_]\n",
    "    # TODO: Implement Function\n",
    "    return pred\n",
    "\n",
    "\n",
    "tests.test_pick_word(pick_word)"
   ]
  },
  {
   "cell_type": "markdown",
   "metadata": {},
   "source": [
    "## Generate TV Script\n",
    "This will generate the TV script for you.  Set `gen_length` to the length of TV script you want to generate."
   ]
  },
  {
   "cell_type": "code",
   "execution_count": 21,
   "metadata": {},
   "outputs": [
    {
     "name": "stdout",
     "output_type": "stream",
     "text": [
      "INFO:tensorflow:Restoring parameters from ./save\n",
      "moe_szyslak:(into phone) gotcha ya down for forty bucks. good luck your eminence.\n",
      "moe_szyslak: sorry, homer.\n",
      "homer_simpson: hey, i've been lookin' out for me!\n",
      "homer_simpson:(inanely) oh, that. he is.\n",
      "moe_szyslak: hey, what is that?\n",
      "homer_simpson: you know, i love your passion. it's terrific, it's really as a love life of the hospital.\n",
      "moe_szyslak: that was my c. smithers!\n",
      "homer_simpson: moe, what do you want to think you ain't been in this bar since they enveloped me.\n",
      "homer_simpson:(anguished) oh no, he stepped on the table.(then) woo hoo?(disapproving sound) that is so rude.(moans) i know, it's so stupid. and now lenny.\n",
      "\n",
      "\n",
      "homer_simpson:(looking around) wh...(third head) kill someone she never did.\n",
      "\n",
      "\n",
      "homer_simpson:(looking up) homer, that japanese puzzle in homer's beloved. the drummer from from fifty bucks!\n",
      "moe_szyslak: yeah, well, i got to let homer down, homer. you're talkin' to, but it was worth nothin'...\n",
      "homer_simpson: say you think my mom was hit with a gag?\n",
      "bender:(to camera) hey, you're right.\n",
      "homer_simpson:(morose) yeah, i don't know.\n",
      "carl_carlson: i with it.\n",
      "homer_simpson:(gasp) right away, but i don't need to feed you.\n",
      "barney_gumble: aw, that's uh, that's uh, for all you know how to make you do to get the money.\n",
      "homer_simpson: i'm here protecting our graves. i still got mine.\n",
      "homer_simpson:(considers it) don't you hate pants?\n",
      "lenny_leonard: that's alright, make it flat-- the bubbles burn my own private police force.\"\n",
      "homer_simpson:(looking up) aw, wait a minute.?.(sips beer)\n",
      "\n",
      "\n",
      "homer_simpson: well, i'm gonna need you to have your badges.(looking around) um, no.\n",
      "homer_simpson:(sighs) yeah, i only serve beer on the world.\n",
      "\n",
      "\n",
      "homer_simpson: moe, if you're single you can take the money all day. not barney, are you man enough to throw a\" flaming moe\".\n",
      "homer_simpson: i'm a man who doesn't with moe's back with the therapist, after this...(bitter) unlike me...(quickly) one hell...(bitter) unlike me...\n",
      "homer_simpson:(brightening) that's a japanese ride clothes.(english eyes, homer's sits! i'm outta here!\n",
      "moe_szyslak: yeah, good for you, homer, don't want to do this out.\n",
      "lenny_leonard:(to bears) all right, take it easy on me. but i couldn't help me the new life...(looks at her ball)...(realizing) hey, i don't want to find out.\n",
      "bart_simpson: it's for homer, you've been a real crank lately.\n",
      "carl_carlson: yeah, i was thinking more on my problems. hope you make me!\n",
      "\n",
      "\n",
      "moe_szyslak: hey, this is...(indignant) i will be the last day of a gag name:\" now i guess i can.\n",
      "comic_book_guy: barney, are you. you've got your money, homer.\n",
      "moe_szyslak: i'm gonna be big feeling that can make you look good.\n",
      "marge_simpson: i got these happier now much.\n",
      "homer_simpson: i already got here!\n",
      "homer_simpson: oh yeah? it's not so fast.\n",
      "homer_simpson:(sunk) i dunno.\n",
      "\n",
      "\n",
      "moe_szyslak:(excited) oh, right.\n",
      "homer_simpson: is that i, ah, you want to be the keys?\n",
      "homer_simpson: wow. i've got any money.\n",
      "moe_szyslak: shut up and hand me when i couldn't seen you in?\n",
      "moe_szyslak: oh my god, this is my manager.\n",
      "homer_simpson: moe, the boy is over!\n",
      "homer_simpson:(pointed) ahem!\n",
      "lenny_leonard:(shrugging) eh, well, ya all you,(small laugh) yeah, i knew this place is always a guy with this tape.\n",
      "\n",
      "\n",
      "homer_simpson: hey, you can't take us home...\n",
      "chief_wiggum: don't relax! don't relax! don't relax!\n",
      "\n",
      "\n",
      "moe_szyslak: moe!(off the camera) i guess every voice.\n",
      "homer_simpson: i got a lot of catching up to do.\n",
      "moe_szyslak: hey, homer, i feel like nothin'.\n",
      "homer_simpson: geez, i was thinking all day. you can forget everything they said.\n",
      "homer_simpson:(sunk) i dunno.\n",
      "\n",
      "\n",
      "homer_simpson:... so i don't remember?\n",
      "dr. _zander: bart.\n",
      "homer_simpson:(inanely) ah, this is why i don't want to find the fish, who knew he never--(shaken)\" african princess... well, i fell in love with the therapist, after they came to the same species?\n",
      "moe_szyslak: well, moe, this guy paints his fictional side of the summer, and(maitre old quotes) heh? well i'm sixty-nine, wow?\n",
      "homer_simpson: whatever.\n",
      "moe_szyslak: ah, you got it. / i don't know why i'm so stupid\n"
     ]
    }
   ],
   "source": [
    "gen_length = 1000\n",
    "# homer_simpson, moe_szyslak, or Barney_Gumble\n",
    "prime_word = 'moe_szyslak'\n",
    "\n",
    "loaded_graph = tf.Graph()\n",
    "with tf.Session(graph=loaded_graph) as sess:\n",
    "    # Load saved model\n",
    "    loader = tf.train.import_meta_graph(load_dir + '.meta')\n",
    "    loader.restore(sess, load_dir)\n",
    "\n",
    "    # Get Tensors from loaded model\n",
    "    input_text, initial_state, final_state, probs = get_tensors(loaded_graph)\n",
    "\n",
    "    # Sentences generation setup\n",
    "    gen_sentences = [prime_word + ':']\n",
    "    prev_state = sess.run(initial_state, {input_text: np.array([[1]])})\n",
    "\n",
    "    # Generate sentences\n",
    "    for n in range(gen_length):\n",
    "        # Dynamic Input\n",
    "        dyn_input = [[vocab_to_int[word] for word in gen_sentences[-seq_length:]]]\n",
    "        dyn_seq_length = len(dyn_input[0])\n",
    "\n",
    "        # Get Prediction\n",
    "        probabilities, prev_state = sess.run(\n",
    "            [probs, final_state],\n",
    "            {input_text: dyn_input, initial_state: prev_state})\n",
    "        \n",
    "        pred_word = pick_word(probabilities[0][dyn_seq_length-1], int_to_vocab)\n",
    "\n",
    "        gen_sentences.append(pred_word)\n",
    "    \n",
    "    # Remove tokens\n",
    "    tv_script = ' '.join(gen_sentences)\n",
    "    for key, token in token_dict.items():\n",
    "        ending = ' ' if key in ['\\n', '(', '\"'] else ''\n",
    "        tv_script = tv_script.replace(' ' + token.lower(), key)\n",
    "    tv_script = tv_script.replace('\\n ', '\\n')\n",
    "    tv_script = tv_script.replace('( ', '(')\n",
    "        \n",
    "    print(tv_script)"
   ]
  }
 ],
 "metadata": {
  "kernelspec": {
   "display_name": "Python 3",
   "language": "python",
   "name": "python3"
  },
  "language_info": {
   "codemirror_mode": {
    "name": "ipython",
    "version": 3
   },
   "file_extension": ".py",
   "mimetype": "text/x-python",
   "name": "python",
   "nbconvert_exporter": "python",
   "pygments_lexer": "ipython3",
   "version": "3.5.4"
  },
  "widgets": {
   "state": {},
   "version": "1.1.2"
  }
 },
 "nbformat": 4,
 "nbformat_minor": 1
}
